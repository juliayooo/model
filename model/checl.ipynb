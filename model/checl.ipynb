{
 "cells": [
  {
   "cell_type": "code",
   "execution_count": 10,
   "id": "6609bd09-2df8-4236-8c6f-5bcc8e33d4b7",
   "metadata": {},
   "outputs": [],
   "source": [
    "import os\n",
    "\n",
    "def remove_mac_hidden_files(directory):\n",
    "    for root, dirs, files in os.walk(directory):\n",
    "        for file in files:\n",
    "            if file.startswith('._'):  # Identify files that start with '._'\n",
    "                file_path = os.path.join(root, file)\n",
    "                try:\n",
    "                    os.remove(file_path)\n",
    "                    print(f\"Removed hidden file: {file_path}\")\n",
    "                except Exception as e:\n",
    "                    print(f\"Error removing {file_path}: {e}\")\n",
    "\n",
    "# Path to the directory you want to clean\n",
    "train_dir = r\"resized_dataset\\train\"\n",
    "val_dir = r\"resized_dataset\\val\"\n",
    "test_dir = r\"resized_dataset\\test\"\n",
    "\n",
    "# Clean all directories\n",
    "remove_mac_hidden_files(train_dir)\n",
    "remove_mac_hidden_files(val_dir)\n",
    "remove_mac_hidden_files(test_dir)"
   ]
  },
  {
   "cell_type": "code",
   "execution_count": null,
   "id": "02cba56a-fb5a-4a95-a12e-a6443e61ce17",
   "metadata": {},
   "outputs": [],
   "source": []
  },
  {
   "cell_type": "code",
   "execution_count": null,
   "id": "f4dade3a-4b4b-490b-a126-eb5211a13413",
   "metadata": {},
   "outputs": [],
   "source": []
  }
 ],
 "metadata": {
  "kernelspec": {
   "display_name": "Python 3 (ipykernel)",
   "language": "python",
   "name": "python3"
  },
  "language_info": {
   "codemirror_mode": {
    "name": "ipython",
    "version": 3
   },
   "file_extension": ".py",
   "mimetype": "text/x-python",
   "name": "python",
   "nbconvert_exporter": "python",
   "pygments_lexer": "ipython3",
   "version": "3.11.7"
  }
 },
 "nbformat": 4,
 "nbformat_minor": 5
}
